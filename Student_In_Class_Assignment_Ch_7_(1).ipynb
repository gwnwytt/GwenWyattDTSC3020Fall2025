{
  "nbformat": 4,
  "nbformat_minor": 0,
  "metadata": {
    "colab": {
      "provenance": [],
      "include_colab_link": true
    },
    "kernelspec": {
      "name": "python3",
      "display_name": "Python 3"
    },
    "language_info": {
      "name": "python"
    }
  },
  "cells": [
    {
      "cell_type": "markdown",
      "metadata": {
        "id": "view-in-github",
        "colab_type": "text"
      },
      "source": [
        "<a href=\"https://colab.research.google.com/github/gwnwytt/GwenWyattDTSC3020Fall2025/blob/main/Student_In_Class_Assignment_Ch_7_(1).ipynb\" target=\"_parent\"><img src=\"https://colab.research.google.com/assets/colab-badge.svg\" alt=\"Open In Colab\"/></a>"
      ]
    },
    {
      "cell_type": "markdown",
      "source": [
        "#Write a Python program that simulates a self-checkout system.**\n",
        "Use this price list: prices: apple= 1 ,  bread= 2.5 ,  milk=5 ,  egg= 6\n",
        "\n",
        "Program requirements:\n",
        "\n",
        "The program should repeatedly ask the user to enter an item name or enter \"pay\".\n",
        "\n",
        "\n",
        "• Valid inputs are the names of the **items above ** or the word \"pay\".\n",
        "\n",
        "\n",
        "If the entered item exists in the price list:\n",
        "\n",
        "• Add its price to the running total.\n",
        "\n",
        "\n",
        "• Print the message: \"Added , running total: $\".\n",
        "\n",
        "\n",
        "If the entered item does not exist in the price list:\n",
        "\n",
        "• Print \"Item not found\".\n",
        "\n",
        "If the user types \"pay\":\n",
        "\n",
        "• Stop asking for input.\n",
        "\n",
        "Show the following three values:\n",
        "\n",
        "\n",
        "**Subtotal: the sum of all valid items entered.**\n",
        "\n",
        "**Tax: 8% of the subtotal. (0.08 * total)**\n",
        "\n",
        "**Final total: subtotal + tax.**\n",
        "\n",
        "\n",
        "Run your program with this purchase list. For example, for one person whose purchase is:apple, pizza, bread, pay *italicised text*"
      ],
      "metadata": {
        "id": "t1xs1X02Owtz"
      }
    },
    {
      "cell_type": "code",
      "execution_count": 7,
      "metadata": {
        "id": "nTH6mvq1OqHP",
        "colab": {
          "base_uri": "https://localhost:8080/"
        },
        "outputId": "146576ec-dc1b-4fd3-85cc-f5d0cc3925a8"
      },
      "outputs": [
        {
          "output_type": "stream",
          "name": "stdout",
          "text": [
            "Please enter item name (or 'pay'): apple\n",
            "Added, running total: $1\n",
            "Please enter item name (or 'pay'): egg\n",
            "Added, running total: $7\n",
            "Please enter item name (or 'pay'): erg\n",
            "Item not found\n",
            "Please enter item name (or 'pay'): pay\n",
            "The subtotal is $7, the tax is $0.56, and your final total is $7.56\n"
          ]
        }
      ],
      "source": [
        "# write your code here\n",
        "prices = {\"apple\":1, \"bread\":2.5, \"milk\":5, \"egg\":6}\n",
        "total = 0\n",
        "tax = 0\n",
        "subtotal = 0\n",
        "while True:\n",
        "  item = input(\"Please enter item name (or 'pay'): \").strip().lower()\n",
        "  if(item == \"pay\"):\n",
        "    break\n",
        "  elif item in prices:\n",
        "    subtotal += prices[item]\n",
        "    print(f\"Added, running total: ${subtotal}\")\n",
        "  else:\n",
        "    print(\"Item not found\")\n",
        "\n",
        "\n",
        "tax = 0.08 * subtotal\n",
        "total = round(tax + subtotal, 2)\n",
        "print(f\"The subtotal is ${subtotal}, the tax is ${tax}, and your final total is ${total}\")\n",
        ""
      ]
    }
  ]
}