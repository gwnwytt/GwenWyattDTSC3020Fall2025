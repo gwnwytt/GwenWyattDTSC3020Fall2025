{
  "nbformat": 4,
  "nbformat_minor": 0,
  "metadata": {
    "colab": {
      "provenance": [],
      "include_colab_link": true
    },
    "kernelspec": {
      "name": "python3",
      "display_name": "Python 3"
    },
    "language_info": {
      "name": "python"
    }
  },
  "cells": [
    {
      "cell_type": "markdown",
      "metadata": {
        "id": "view-in-github",
        "colab_type": "text"
      },
      "source": [
        "<a href=\"https://colab.research.google.com/github/gwnwytt/GwenWyattDTSC3020Fall2025/blob/main/Student_In_Class_Assignment_Ch_8.ipynb\" target=\"_parent\"><img src=\"https://colab.research.google.com/assets/colab-badge.svg\" alt=\"Open In Colab\"/></a>"
      ]
    },
    {
      "cell_type": "markdown",
      "source": [
        "##Final Class Exercise"
      ],
      "metadata": {
        "id": "51gCuC6VJ3gu"
      }
    },
    {
      "cell_type": "markdown",
      "source": [
        "Write a Python function create_email(full_name) that builds a UNT email in the format\n",
        "firstname.lastname@my.unt.edu.\n",
        "\n",
        "Rules\n",
        "\n",
        " • Use the first and last word from full_name (case-insensitive).\n",
        "\n",
        " • Convert everything to lowercase.\n",
        "\n",
        " • If there is only one word, use it twice (e.g., \"ali\" → ali.ali@my.unt.edu).\n",
        "\n",
        " • Return the email string.\n",
        "\n",
        "\n",
        "Constraints\n",
        "\n",
        " • Use a function and return.\n",
        "\n",
        " • Do not use input() or external libraries.\n",
        "\n",
        "\n",
        " test your code with this list\n",
        " names = [\n",
        "    \"Sara Amini\",\n",
        "    \"Ali\",\n",
        "    \"Mary Jane\",\n",
        "    \"  John   Smith  \",\n",
        "    \"LINA\",\n",
        "    \"madonna\",\n",
        "    \"  sara   amini  \"\n",
        "]"
      ],
      "metadata": {
        "id": "7pxJ6i3jH7Yq"
      }
    },
    {
      "cell_type": "code",
      "source": [
        "# Write your solution here.\n",
        "def create_email(full_name):\n",
        "  full_name = full_name.lower()\n",
        "  names = full_name.split()\n",
        "  if(len(names) == 1):\n",
        "    return names[0] + \".\" + names[0] + \"@my.unt.edu\"\n",
        "  return names[0] + \".\" + names[len(names)-1] + \"@my.unt.edu\"\n",
        "\n",
        "print(create_email(\"Sara Amini\"))\n",
        "print(create_email(\"Ali\"))\n",
        "print(create_email(\"Mary Jane\"))\n",
        "print(create_email(\"John Smith\"))\n",
        "print(create_email(\"LINA\"))\n",
        "print(create_email(\"madonna\"))\n",
        "print(create_email(\"sara amini\"))\n",
        "\n"
      ],
      "metadata": {
        "id": "6jcH9Qm_IXWh",
        "colab": {
          "base_uri": "https://localhost:8080/"
        },
        "outputId": "25cc6c60-55ea-45b3-b8ac-a45f2484474f"
      },
      "execution_count": 2,
      "outputs": [
        {
          "output_type": "stream",
          "name": "stdout",
          "text": [
            "sara.amini@my.unt.edu\n",
            "ali.ali@my.unt.edu\n",
            "mary.jane@my.unt.edu\n",
            "john.smith@my.unt.edu\n",
            "lina.lina@my.unt.edu\n",
            "madonna.madonna@my.unt.edu\n",
            "sara.amini@my.unt.edu\n"
          ]
        }
      ]
    }
  ]
}