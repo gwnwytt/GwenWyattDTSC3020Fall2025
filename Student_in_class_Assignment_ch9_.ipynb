{
  "nbformat": 4,
  "nbformat_minor": 0,
  "metadata": {
    "colab": {
      "provenance": [],
      "include_colab_link": true
    },
    "kernelspec": {
      "name": "python3",
      "display_name": "Python 3"
    },
    "language_info": {
      "name": "python"
    }
  },
  "cells": [
    {
      "cell_type": "markdown",
      "metadata": {
        "id": "view-in-github",
        "colab_type": "text"
      },
      "source": [
        "<a href=\"https://colab.research.google.com/github/gwnwytt/GwenWyattDTSC3020Fall2025/blob/main/Student_in_class_Assignment_ch9_.ipynb\" target=\"_parent\"><img src=\"https://colab.research.google.com/assets/colab-badge.svg\" alt=\"Open In Colab\"/></a>"
      ]
    },
    {
      "cell_type": "markdown",
      "source": [
        "create a class called InventoryItem that represents a single product in stock — for example, an apple in a grocery store. The class keeps track of the product’s name, price, quantity, and minimum stock level (the level where we might need to reorder).\n",
        "\n",
        "......\n",
        "\n",
        "When you store the attributes, convert types as follows:\n",
        "\n",
        "• name → str(name)\n",
        "\n",
        "• price → float(price)\n",
        "\n",
        "• quantity → int(quantity) (default 0)\n",
        "\n",
        "• min_stock → int(min_stock) (default 0)\n",
        "\n",
        "Validation:\n",
        "\n",
        "• If any of price, quantity, or min_stock is negative, raise ValueError with a clear message.\n",
        "\n",
        "......\n",
        "\n",
        "Methods to implement\n",
        "\n",
        "restock(self, qty)\n",
        "• If qty is negative, raise ValueError.\n",
        "\n",
        "• Otherwise, increase quantity by qty.\n",
        "\n",
        "sell(self, qty)\n",
        "• If qty is not positive (≤ 0), raise ValueError.\n",
        "\n",
        "• If there is enough stock (self.quantity >= qty), decrease quantity by qty and return True.\n",
        "\n",
        "• Otherwise, return False (do not change quantity).\n",
        "\n",
        "value(self)\n",
        "• Return the total value of this item in stock:\n",
        "\n",
        "price * quantity (a float).\n",
        "\n",
        "repr(self)\n",
        "Provide a readable text description of the object when printed.\n",
        "\n",
        "return (f\"InventoryItem(name={self.name}, price={self.price}, \" f\"qty={self.quantity}, min_stock={self.min_stock})\")\n",
        "\n",
        "........\n",
        "\n",
        "• Return a developer-friendly string that shows all fields, for example: InventoryItem(name='Apple', price=0.5, quantity=3, min_stock=1)"
      ],
      "metadata": {
        "id": "vW98iSj6mCjt"
      }
    },
    {
      "cell_type": "code",
      "execution_count": 16,
      "metadata": {
        "id": "Hayuin-1lkgP",
        "colab": {
          "base_uri": "https://localhost:8080/"
        },
        "outputId": "58685528-9415-4a4f-f075-7f8264a19739"
      },
      "outputs": [
        {
          "output_type": "stream",
          "name": "stdout",
          "text": [
            "InventoryItem(name=Apple, price=0.5, qty=3, min_stock=1)\n"
          ]
        },
        {
          "output_type": "execute_result",
          "data": {
            "text/plain": [
              "2.5"
            ]
          },
          "metadata": {},
          "execution_count": 16
        }
      ],
      "source": [
        "# Write your answer here\n",
        "class InventoryItem:\n",
        "  def __init__(self, name, price, quantity=0, min_stock=0):\n",
        "    self.name = name\n",
        "    self.price = price\n",
        "    self.quantity = quantity\n",
        "    self.min_stock = min_stock\n",
        "    if self.price < 0:\n",
        "      raise ValueError(\"Price cannot be negative\\n\")\n",
        "    if self.quantity < 0:\n",
        "      raise ValueError(\"Quantity cannot be negative\\n\")\n",
        "    if self.min_stock < 0:\n",
        "      raise ValueError(\"Minimum stock cannot be negative\\n\")\n",
        "\n",
        "  def restock(self,qty):\n",
        "    if qty < 0:\n",
        "      raise ValueError(\"Quantity cannot be negative\\n\")\n",
        "    else:\n",
        "      self.quantity += qty\n",
        "\n",
        "  def sell(self, qty):\n",
        "    if qty < 0:\n",
        "      raise ValueError(\"Quantity cannot be negative\\n\")\n",
        "    elif self.quantity >= qty:\n",
        "      self.quantity -= qty\n",
        "    else:\n",
        "      return False\n",
        "\n",
        "  def value(self):\n",
        "    return self.price * self.quantity\n",
        "\n",
        "  def __repr__(self):\n",
        "    return (f\"InventoryItem(name={self.name}, price={self.price}, \" f\"qty={self.quantity}, min_stock={self.min_stock})\")\n",
        "\n",
        "\n",
        "my_item = InventoryItem('Apple', 0.5, 3, 1)\n",
        "print(repr(my_item))\n",
        "my_item.restock(5)\n",
        "my_item.sell(3)\n",
        "my_item.value()"
      ]
    }
  ]
}