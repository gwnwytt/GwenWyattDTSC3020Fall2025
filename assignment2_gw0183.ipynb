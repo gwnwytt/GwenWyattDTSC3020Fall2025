{
  "nbformat": 4,
  "nbformat_minor": 0,
  "metadata": {
    "colab": {
      "provenance": [],
      "authorship_tag": "ABX9TyMnl1oUc+EHLKXIB/ePOSCv",
      "include_colab_link": true
    },
    "kernelspec": {
      "name": "python3",
      "display_name": "Python 3"
    },
    "language_info": {
      "name": "python"
    }
  },
  "cells": [
    {
      "cell_type": "markdown",
      "metadata": {
        "id": "view-in-github",
        "colab_type": "text"
      },
      "source": [
        "<a href=\"https://colab.research.google.com/github/gwnwytt/GwenWyattDTSC3020Fall2025/blob/main/assignment2_gw0183.ipynb\" target=\"_parent\"><img src=\"https://colab.research.google.com/assets/colab-badge.svg\" alt=\"Open In Colab\"/></a>"
      ]
    },
    {
      "cell_type": "code",
      "execution_count": 11,
      "metadata": {
        "colab": {
          "base_uri": "https://localhost:8080/"
        },
        "id": "vtVpsCVIdVRt",
        "outputId": "1949a438-2eb2-486c-ff24-143b433fa408"
      },
      "outputs": [
        {
          "output_type": "stream",
          "name": "stdout",
          "text": [
            "['strawberry', 'grape', 'apple']\n",
            "strawberry\n",
            "grape\n",
            "apple\n",
            "strawberry\n",
            "grape\n",
            "apple\n"
          ]
        }
      ],
      "source": [
        "# 1) Create a list with 3 fruits (for example: apple, banana, orange)\n",
        "fruits = [\"strawberry\", \"grape\", \"apple\"]\n",
        "\n",
        "#print whole list\n",
        "print(fruits)\n",
        "\n",
        "#print each string in list\n",
        "for x in fruits:\n",
        "  print(x)\n",
        "#or\n",
        "print(fruits[0])\n",
        "print(fruits[1])\n",
        "print(fruits[2])"
      ]
    },
    {
      "cell_type": "code",
      "source": [
        "# 2) Create a list with 4 names\n",
        "nameList = [\"Gwen\", \"Nilson\", \"Ezzy\", \"Alicia\"]\n",
        "print(nameList)\n",
        "\n",
        "#Change the first name to a different one\n",
        "nameList[0] = \"Clare\"\n",
        "print(nameList)"
      ],
      "metadata": {
        "colab": {
          "base_uri": "https://localhost:8080/"
        },
        "id": "QdB0OaDwfHQT",
        "outputId": "720a3d46-650d-44c0-bbb2-d930090c3848"
      },
      "execution_count": 5,
      "outputs": [
        {
          "output_type": "stream",
          "name": "stdout",
          "text": [
            "['Gwen', 'Nilson', 'Ezzy', 'Alicia']\n",
            "['Clare', 'Nilson', 'Ezzy', 'Alicia']\n"
          ]
        }
      ]
    },
    {
      "cell_type": "code",
      "source": [
        "# 3) Create a list with 5 vehicles (for example: car, bus, bike)\n",
        "vehicleList = [\"plane\", \"train\", \"car\", \"bus\", \"truck\"]\n",
        "print(vehicleList)\n",
        "\n",
        "#Add one more vehicle to the end of the list\n",
        "vehicleList.append(\"bike\")\n",
        "print(vehicleList)"
      ],
      "metadata": {
        "colab": {
          "base_uri": "https://localhost:8080/"
        },
        "id": "PW3VsDxEf4qF",
        "outputId": "a58ab9e3-c420-4517-dedc-fcefba19574f"
      },
      "execution_count": 6,
      "outputs": [
        {
          "output_type": "stream",
          "name": "stdout",
          "text": [
            "['plane', 'train', 'car', 'bus', 'truck']\n",
            "['plane', 'train', 'car', 'bus', 'truck', 'bike']\n"
          ]
        }
      ]
    },
    {
      "cell_type": "code",
      "source": [
        "# 4) Create a list with 6 foods\n",
        "foodList = [\"strawberry\", \"egg\", \"spinach\", \"yogurt\", \"milk\", \"coffee\"]\n",
        "print(foodList)\n",
        "\n",
        "#Remove one food from the list\n",
        "foodList.remove(\"milk\")\n",
        "print(foodList)"
      ],
      "metadata": {
        "colab": {
          "base_uri": "https://localhost:8080/"
        },
        "id": "YKkObrBtgasa",
        "outputId": "462bf775-6c96-4b9d-93ac-85831070331f"
      },
      "execution_count": 7,
      "outputs": [
        {
          "output_type": "stream",
          "name": "stdout",
          "text": [
            "['strawberry', 'egg', 'spinach', 'yogurt', 'milk', 'coffee']\n",
            "['strawberry', 'egg', 'spinach', 'yogurt', 'coffee']\n"
          ]
        }
      ]
    },
    {
      "cell_type": "code",
      "source": [
        "# 5) Create a list with 4 cities\n",
        "cityList = [\"Dallas\", \"Philadelphia\", \"New Orleans\", \"Denver\"]\n",
        "print(cityList)\n",
        "\n",
        "#Sort the list in alphabetical order\n",
        "cityList.sort()\n",
        "print(cityList)\n",
        "\n",
        "#Reverse the list\n",
        "cityList.sort(reverse = True)\n",
        "print(cityList)"
      ],
      "metadata": {
        "colab": {
          "base_uri": "https://localhost:8080/"
        },
        "id": "izI-_lcag6dF",
        "outputId": "11b42f06-7044-4243-f7ec-49c51658d1f1"
      },
      "execution_count": 9,
      "outputs": [
        {
          "output_type": "stream",
          "name": "stdout",
          "text": [
            "['Dallas', 'Philadelphia', 'New Orleans', 'Denver']\n",
            "['Dallas', 'Denver', 'New Orleans', 'Philadelphia']\n",
            "['Philadelphia', 'New Orleans', 'Denver', 'Dallas']\n"
          ]
        }
      ]
    },
    {
      "cell_type": "code",
      "source": [
        "# 6) Create a list with 3 animals\n",
        "animalList = [\"Snow Leopard\", \"Tortoise\", \"Orca\"]\n",
        "print(animalList)\n",
        "\n",
        "#Use a for loop to print each animal\n",
        "for x in animalList:\n",
        "  print(x)"
      ],
      "metadata": {
        "colab": {
          "base_uri": "https://localhost:8080/"
        },
        "id": "fUh6LOeEh0js",
        "outputId": "a423f755-8a5e-4bd4-fa6b-9187dabda1a6"
      },
      "execution_count": 10,
      "outputs": [
        {
          "output_type": "stream",
          "name": "stdout",
          "text": [
            "['Snow Leopard', 'Tortoise', 'Orca']\n",
            "Snow Leopard\n",
            "Tortoise\n",
            "Orca\n"
          ]
        }
      ]
    },
    {
      "cell_type": "code",
      "source": [
        "# 7) Create a list with numbers from 1 to 5\n",
        "numList = [1, 2, 3, 4, 5]\n",
        "print(numList)\n",
        "\n",
        "#Use a for loop to print each number multiplied by 2\n",
        "for x in numList:\n",
        "  print(x*2)"
      ],
      "metadata": {
        "colab": {
          "base_uri": "https://localhost:8080/"
        },
        "id": "PcBmrBbJihqb",
        "outputId": "385b1f55-3a65-411d-cc42-3011f35a51e8"
      },
      "execution_count": 12,
      "outputs": [
        {
          "output_type": "stream",
          "name": "stdout",
          "text": [
            "[1, 2, 3, 4, 5]\n",
            "2\n",
            "4\n",
            "6\n",
            "8\n",
            "10\n"
          ]
        }
      ]
    },
    {
      "cell_type": "code",
      "source": [
        "# 8) Create a list with 6 friends\n",
        "friendList = [\"Nilson\", \"Ezzy\", \"Clare\", \"Ali\", \"Emily\", \"Sarah\"]\n",
        "print(friendList)\n",
        "\n",
        "#Print the first three friends\n",
        "print(friendList[0:3])\n",
        "\n",
        "#Print the last three friends\n",
        "print(friendList[3:6])"
      ],
      "metadata": {
        "colab": {
          "base_uri": "https://localhost:8080/"
        },
        "id": "QfAL9y-Wi3e1",
        "outputId": "c36b6b4f-f9c8-4954-93e5-c13427aace7f"
      },
      "execution_count": 14,
      "outputs": [
        {
          "output_type": "stream",
          "name": "stdout",
          "text": [
            "['Nilson', 'Ezzy', 'Clare', 'Ali', 'Emily', 'Sarah']\n",
            "['Nilson', 'Ezzy', 'Clare']\n",
            "['Ali', 'Emily', 'Sarah']\n"
          ]
        }
      ]
    },
    {
      "cell_type": "code",
      "source": [
        "# 9) Use range() to create a list with numbers from 1 to 10\n",
        "numList2 = [x for x in range(11)]\n",
        "print(numList2)"
      ],
      "metadata": {
        "colab": {
          "base_uri": "https://localhost:8080/"
        },
        "id": "WtjxPEg9jpd8",
        "outputId": "8f9364c5-c1c7-4721-90ee-651a9d33c464"
      },
      "execution_count": 23,
      "outputs": [
        {
          "output_type": "stream",
          "name": "stdout",
          "text": [
            "[0, 1, 2, 3, 4, 5, 6, 7, 8, 9, 10]\n"
          ]
        }
      ]
    },
    {
      "cell_type": "code",
      "source": [
        "# 10) Use list comprehension to create a list with the squares of numbers from 1 to 5\n",
        "numList3 = [x for x in range(0,6)]\n",
        "print(numList3)\n",
        "newList = []\n",
        "for x in numList3:\n",
        "  newList.append(numList3[x]*x)\n",
        "print(newList)"
      ],
      "metadata": {
        "colab": {
          "base_uri": "https://localhost:8080/"
        },
        "id": "_CV2cIQblfNr",
        "outputId": "0c645664-b216-4519-ad9c-2dde2dc3e4e1"
      },
      "execution_count": 30,
      "outputs": [
        {
          "output_type": "stream",
          "name": "stdout",
          "text": [
            "[0, 1, 2, 3, 4, 5]\n",
            "[0, 1, 4, 9, 16, 25]\n"
          ]
        }
      ]
    }
  ]
}