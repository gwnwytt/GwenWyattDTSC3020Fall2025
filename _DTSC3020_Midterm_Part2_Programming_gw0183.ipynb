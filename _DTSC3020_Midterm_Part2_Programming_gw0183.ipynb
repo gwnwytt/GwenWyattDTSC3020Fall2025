{
  "cells": [
    {
      "cell_type": "markdown",
      "metadata": {
        "id": "view-in-github",
        "colab_type": "text"
      },
      "source": [
        "<a href=\"https://colab.research.google.com/github/gwnwytt/GwenWyattDTSC3020Fall2025/blob/main/_DTSC3020_Midterm_Part2_Programming_gw0183.ipynb\" target=\"_parent\"><img src=\"https://colab.research.google.com/assets/colab-badge.svg\" alt=\"Open In Colab\"/></a>"
      ]
    },
    {
      "cell_type": "markdown",
      "id": "8e58db4f",
      "metadata": {
        "id": "8e58db4f"
      },
      "source": [
        "# DTSC 3020 — Midterm Exam (Part 2: Programming)\n",
        "University of North Texas\n",
        "\n",
        "**Course:** Introduction to Computation with Python (DTSC 3020)  \n",
        "**Exam:** Midterm — Programming (Ch. 1–8 concepts)\n",
        "\n"
      ]
    },
    {
      "cell_type": "markdown",
      "id": "ed86aaec",
      "metadata": {
        "id": "ed86aaec"
      },
      "source": [
        "---\n",
        "### Instructions\n",
        "- Write clean, readable Python code for each question.\n",
        "- Use only standard Python; no external libraries.\n",
        "- Where required, write a function and return the result.\n",
        "- After each solution cell, there is a **Part 2 — Test Scenario**. Follow the prompt to run your code.\n",
        "\n",
        "---"
      ]
    },
    {
      "cell_type": "markdown",
      "id": "227c4435",
      "metadata": {
        "id": "227c4435"
      },
      "source": [
        "## Question 1 — Create Member ID\n",
        "Write a Python function `create_member_id(full_name)` that creates a Library Member ID from a person’s full name.\n",
        "\n",
        "**Rules**\n",
        "- Normalize the name: remove extra spaces, convert to lowercase, and split by spaces.\n",
        "- Use the last word as the last name (e.g., `\"John Ronald Reuel Tolkien\"` → last name `tolkien`).\n",
        "- Use the first letters of all earlier words as initials (e.g., `jrr` for the example above).\n",
        "- Construct the member ID in this exact format: `lastname_initials` (underscore between them; no spaces).\n",
        "\n",
        "**Examples**\n",
        "- `\"Sara Amini\"` → `amini_sa`\n",
        "- `\"Mary Jane Watson\"` → `watson_mj`\n",
        "- `\"LINA\"` (single word) → use the word for both parts: `lina_l`\n",
        "\n",
        "Part 2 — Test Scenario (run using your function)\n",
        "names = [\"Sara Amini\", \"Ali\", \"Mary Jane\", \"John Smith\", \"LINA\", \"madonna\", \"sara amini\"]\n",
        "\n",
        "\n",
        "\n"
      ]
    },
    {
      "cell_type": "code",
      "execution_count": null,
      "id": "51411a35",
      "metadata": {
        "id": "51411a35"
      },
      "outputs": [],
      "source": [
        "# Write your answer here for Q1\n",
        "def create_member_id(full_name):\n",
        "  full_name.split()\n",
        "  full_name = full_name.lower()\n",
        "\n",
        "  i=len(full_name)-1\n",
        "  last_name1 = \"\"\n",
        "  while i>=0:\n",
        "    if not(full_name[i].isspace()):\n",
        "      last_name1 += (full_name[i])\n",
        "      i=i-1\n",
        "    else:\n",
        "      break\n",
        "\n",
        "  i=len(last_name1)-1\n",
        "  last_name = ''\n",
        "  while i>=0:\n",
        "    last_name += last_name1[i]\n",
        "    i -= 1\n",
        "\n",
        "  i=0\n",
        "  initials = \"\"\n",
        "  while i<len(full_name):\n",
        "    if i==0:\n",
        "      initials += full_name[i]\n",
        "    if full_name[i].isspace():\n",
        "      initials += full_name[i+1]\n",
        "    i += 1\n",
        "\n",
        "  print(f\"{last_name}_{initials}\")\n"
      ]
    },
    {
      "cell_type": "code",
      "execution_count": null,
      "id": "584ae4f0",
      "metadata": {
        "id": "584ae4f0",
        "colab": {
          "base_uri": "https://localhost:8080/"
        },
        "outputId": "ac2e9f97-5720-44b5-d919-84a92ef028c6"
      },
      "outputs": [
        {
          "output_type": "stream",
          "name": "stdout",
          "text": [
            "amini_sa\n",
            "ali_a\n",
            "jane_mj\n",
            "smith_js\n",
            "lina_l\n",
            "madonna_m\n",
            "amini_sa\n"
          ]
        }
      ],
      "source": [
        "# Part 2 — Test Scenario (run using your function)\n",
        "names = [\"Sara Amini\", \"Ali\", \"Mary Jane\", \"John Smith\", \"LINA\", \"madonna\", \"sara amini\"]\n",
        "for x in names:\n",
        "  create_member_id(x)"
      ]
    },
    {
      "cell_type": "markdown",
      "id": "c1727720",
      "metadata": {
        "id": "c1727720"
      },
      "source": [
        "## Question 2 — Movie Ticket Booth\n",
        "\n",
        "Write a Python program that simulates a movie ticket booth using this price list:\n",
        "\n",
        "```python\n",
        "prices = {\"adult\": 12.5, \"child\": 8, \"senior\": 9.5, \"student\": 10}\n",
        "```\n",
        "\n",
        "**Program Requirements**\n",
        "- Repeatedly ask the user to enter a ticket type or type `done` to finish.\n",
        "- Valid inputs: `adult`, `child`, `senior`, `student`, or `done`.\n",
        "- If the ticket type exists, add its price to a running total and print a confirmation message.\n",
        "- If it doesn’t exist, print `\"Invalid ticket type\"`.\n",
        "- When the user types `done`, stop and show:\n",
        "  - **Subtotal** (sum of valid ticket prices)\n",
        "  - **Tax** = 8% of subtotal\n",
        "  - **Final total** = subtotal + tax\n"
      ]
    },
    {
      "cell_type": "code",
      "execution_count": null,
      "id": "4b859e17",
      "metadata": {
        "id": "4b859e17",
        "colab": {
          "base_uri": "https://localhost:8080/"
        },
        "outputId": "56a6f6c4-6020-4569-c8d5-95889b38e961"
      },
      "outputs": [
        {
          "output_type": "stream",
          "name": "stdout",
          "text": [
            "Enter if you are an 'adult', 'child', 'senior' or 'student'\n",
            "enter 'done' when finished\n",
            "adult\n",
            "Enter if you are an 'adult', 'child', 'senior' or 'student'\n",
            "enter 'done' when finished\n",
            "child\n",
            "Enter if you are an 'adult', 'child', 'senior' or 'student'\n",
            "enter 'done' when finished\n",
            "student\n",
            "Enter if you are an 'adult', 'child', 'senior' or 'student'\n",
            "enter 'done' when finished\n",
            "done\n",
            "Subtotal = $30.5\n",
            "Tax = $2.44\n",
            "Total = $32.94\n",
            "\n"
          ]
        }
      ],
      "source": [
        "# Write your answer here\n",
        "prices = {\"adult\": 12.5, \"child\": 8, \"senior\": 9.5, \"student\": 10}\n",
        "subtotal = 0\n",
        "tax = 0\n",
        "final = 0\n",
        "\n",
        "while True:\n",
        "  prompt = input(\"Enter if you are an 'adult', 'child', 'senior' or 'student'\\nenter 'done' when finished\\n\")\n",
        "  if prompt == 'adult':\n",
        "    subtotal += prices.get('adult')\n",
        "  elif prompt == 'child':\n",
        "    subtotal += prices.get('child')\n",
        "  elif prompt == 'senior':\n",
        "    subtotal += prices.get('senior')\n",
        "  elif prompt == 'student':\n",
        "    subtotal += prices.get('student')\n",
        "  elif prompt == 'done':\n",
        "    tax = 0.08 * subtotal\n",
        "    total = subtotal + tax\n",
        "    print(f\"Subtotal = ${subtotal}\\nTax = ${tax}\\nTotal = ${total}\\n\")\n",
        "    break\n",
        "  else:\n",
        "    print(\"Invalid input\")\n",
        "\n"
      ]
    },
    {
      "cell_type": "markdown",
      "id": "17b39afe",
      "metadata": {
        "id": "17b39afe"
      },
      "source": [
        "**Part 2 — Example Scenario**\n",
        "When prompted, type the following (each on a new line), then press Enter after each entry:\n",
        "\n",
        "```\n",
        "adult\n",
        "child\n",
        "student\n",
        "done\n",
        "```\n",
        "Your program should complete and display the subtotal, tax, and final total based on these entries.\n"
      ]
    },
    {
      "cell_type": "markdown",
      "id": "28c710b6",
      "metadata": {
        "id": "28c710b6"
      },
      "source": [
        "## Question 3 — Student Grade Analyzer\n",
        "\n",
        "Write a Python function `analyze_grades(grades)` that takes a list of numbers (0–100) and returns three values:\n",
        "1. average grade\n",
        "2. highest grade\n",
        "3. lowest grade\n",
        "\n",
        "**Constraints**\n",
        "- Use a function and return statement(s).\n",
        "- Do not use external libraries.\n"
      ]
    },
    {
      "cell_type": "code",
      "execution_count": null,
      "id": "efce3052",
      "metadata": {
        "id": "efce3052"
      },
      "outputs": [],
      "source": [
        "# Write your answer here for Q3\n",
        "def analyze_grades(grades):\n",
        "  total = 0\n",
        "  average = 0\n",
        "  max = grades[0]\n",
        "  min = grades[0]\n",
        "  for x in grades:\n",
        "    total += x\n",
        "    if x < min:\n",
        "      min = x\n",
        "    if x > max:\n",
        "      max = x\n",
        "  average = (total / len(grades))\n",
        "\n",
        "  print(f'The average grade is {average}\\nThe highest grade is {max}\\nThe lowest grade is {min}\\n')\n"
      ]
    },
    {
      "cell_type": "code",
      "execution_count": null,
      "id": "ad2b0d29",
      "metadata": {
        "id": "ad2b0d29",
        "colab": {
          "base_uri": "https://localhost:8080/"
        },
        "outputId": "0762c656-b046-4677-9c73-bbf4fafc1e12"
      },
      "outputs": [
        {
          "output_type": "stream",
          "name": "stdout",
          "text": [
            "The average grade is 85.57142857142857\n",
            "The highest grade is 93\n",
            "The lowest grade is 72\n",
            "\n"
          ]
        }
      ],
      "source": [
        "# Part 2 — Test Scenario\n",
        "sample = [88, 92, 79, 93, 85, 90, 72]\n",
        "analyze_grades(sample)"
      ]
    },
    {
      "cell_type": "markdown",
      "id": "d378f3c3",
      "metadata": {
        "id": "d378f3c3"
      },
      "source": [
        "## Question 4 — PIN Verification\n",
        "Write a Python program that simulates an ATM PIN verification system.\n",
        "\n",
        "**Requirements**\n",
        "- The correct PIN is `4321`.\n",
        "- The user has at most **3 attempts** to enter the correct PIN.\n",
        "- If the PIN is correct: print `Access granted.` and stop.\n",
        "- If all 3 attempts fail: print `Card blocked.`\n",
        "- After each wrong attempt, also print the counter in the form `Wrong (x/3)`.\n"
      ]
    },
    {
      "cell_type": "code",
      "execution_count": null,
      "id": "5ea085a2",
      "metadata": {
        "id": "5ea085a2",
        "colab": {
          "base_uri": "https://localhost:8080/"
        },
        "outputId": "2ed957ae-567c-42e8-e07a-cb0891b8b599"
      },
      "outputs": [
        {
          "output_type": "stream",
          "name": "stdout",
          "text": [
            "Enter PIN\n",
            "1111\n",
            "Wrong 1/3\n",
            "Enter PIN\n",
            "2222\n",
            "Wrong 2/3\n",
            "Enter PIN\n",
            "4321\n",
            "Access granted\n"
          ]
        }
      ],
      "source": [
        "# Write your answer here\n",
        "count = 0\n",
        "while count < 3:\n",
        "  prompt = input(\"Enter PIN\\n\")\n",
        "  if prompt == '4321':\n",
        "    print('Access granted')\n",
        "    break\n",
        "  else:\n",
        "    count += 1\n",
        "    print(f\"Wrong {count}/3\")\n",
        "\n",
        "if count == 3:\n",
        "  print(\"Card blocked\")\n"
      ]
    },
    {
      "cell_type": "markdown",
      "id": "1c61e343",
      "metadata": {
        "id": "1c61e343"
      },
      "source": [
        "**Part 2 — Test Scenario**\n",
        "Run your program and, when prompted, enter these sequences to verify both behaviors:\n",
        "\n",
        "**Scenario A**\n",
        "```\n",
        "1111\n",
        "2222\n",
        "4321\n",
        "```\n",
        "\n",
        "\n"
      ]
    }
  ],
  "metadata": {
    "kernelspec": {
      "display_name": "Python 3",
      "language": "python",
      "name": "python3"
    },
    "language_info": {
      "name": "python",
      "version": "3.x"
    },
    "colab": {
      "provenance": [],
      "include_colab_link": true
    }
  },
  "nbformat": 4,
  "nbformat_minor": 5
}