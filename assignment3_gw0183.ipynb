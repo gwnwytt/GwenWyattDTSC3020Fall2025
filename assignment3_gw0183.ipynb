{
  "cells": [
    {
      "cell_type": "markdown",
      "metadata": {
        "id": "view-in-github",
        "colab_type": "text"
      },
      "source": [
        "<a href=\"https://colab.research.google.com/github/gwnwytt/GwenWyattDTSC3020Fall2025/blob/main/assignment3_gw0183.ipynb\" target=\"_parent\"><img src=\"https://colab.research.google.com/assets/colab-badge.svg\" alt=\"Open In Colab\"/></a>"
      ]
    },
    {
      "cell_type": "markdown",
      "metadata": {
        "id": "nevCG4Qs0b8R"
      },
      "source": [
        "# DTSC 3020 – Assignment 3\n",
        "\n",
        "This exercise focuses on **if statements and conditional logic** in Python and is designed to help students practice decision-making structures.\n",
        "\n",
        "**Total points:** 5  \n",
        "**Deadline:** Friday at midnight  \n",
        "**Submission:** Upload your Python file to your GitHub repository and submit **only your GitHub link**.\n",
        "\n",
        "### Expectations\n",
        "- Write complete answers and run all cells before submission.\n",
        "- Keep the notebook clean (no unnecessary code).\n",
        "\n"
      ],
      "id": "nevCG4Qs0b8R"
    },
    {
      "cell_type": "markdown",
      "metadata": {
        "id": "gfumj0DY0b8f"
      },
      "source": [
        "## Question 1 – Movie Ticket System\n",
        "Write a Python code that checks the price of a movie ticket.\n",
        "If the age is between 0 and 11 it is Child, if between 12 and 17 it is Teen, and if 18 or older it is Adult.\n",
        "Print the category and the ticket price (you choose the price).\n",
        "Run the program with age = 16."
      ],
      "id": "gfumj0DY0b8f"
    },
    {
      "cell_type": "code",
      "metadata": {
        "id": "67TGDT6w0b8k",
        "colab": {
          "base_uri": "https://localhost:8080/"
        },
        "outputId": "e7b7b8ff-cc7f-4ced-b292-921b55a504ab"
      },
      "execution_count": 4,
      "outputs": [
        {
          "output_type": "stream",
          "name": "stdout",
          "text": [
            "You are a teen and your ticket price is $5.00\n"
          ]
        }
      ],
      "source": [
        "# write your answer here\n",
        "age = 16\n",
        "\n",
        "if(age < 12):\n",
        "  print('You are a child and your ticket price is $2.50.')\n",
        "elif(age < 18):\n",
        "  print('You are a teen and your ticket price is $5.00.')\n",
        "else:\n",
        "  print('You are an adult and your ticket price is $7.00.')\n"
      ],
      "id": "67TGDT6w0b8k"
    },
    {
      "cell_type": "markdown",
      "metadata": {
        "id": "_tUFNVKT0b8r"
      },
      "source": [
        "## Question 2 – Online Store Discount\n",
        "Write a Python code that applies a discount based on the shopping cart total.\n",
        "If the total is less than 50 dollars there is no discount, if the total is between 50 and 99 dollars there is a 10 percent discount, and if the total is 100 dollars or more there is a 20 percent discount.\n",
        "Print the original total, the discount, and the final price.\n",
        "Run the program with cart_total = 85."
      ],
      "id": "_tUFNVKT0b8r"
    },
    {
      "cell_type": "code",
      "metadata": {
        "id": "yTtX719o0b8v",
        "colab": {
          "base_uri": "https://localhost:8080/"
        },
        "outputId": "6769afe6-bf3d-46dc-a4ba-52f3dbaa10a5"
      },
      "execution_count": 10,
      "outputs": [
        {
          "output_type": "stream",
          "name": "stdout",
          "text": [
            "Original price: $85\n",
            "Discount price: $8.5\n",
            "Final price: $76.5\n"
          ]
        }
      ],
      "source": [
        "# write your answer here\n",
        "\n",
        "cart_total = 85\n",
        "\n",
        "discount_price = 0\n",
        "total_price = cart_total\n",
        "\n",
        "if(cart_total < 50):\n",
        "  print('No discount applied')\n",
        "  print('Total price $' + str(total_price))\n",
        "elif(cart_total < 100):\n",
        "  discount_price = cart_total * 0.1\n",
        "  total_price = cart_total - discount_price\n",
        "  print('Original price: $' + str(cart_total))\n",
        "  print('Discount price: $' + str(discount_price))\n",
        "  print('Final price: $' + str(total_price))\n",
        "else:\n",
        "  discount_price = cart_total * 0.2\n",
        "  total_price = cart_total - discount_price\n",
        "  print('Original price: $' + str(cart_total))\n",
        "  print('Discount price: $' + str(discount_price))\n",
        "  print('Final price: $' + str(total_price))"
      ],
      "id": "yTtX719o0b8v"
    },
    {
      "cell_type": "markdown",
      "metadata": {
        "id": "uOUYYC870b8x"
      },
      "source": [
        "## Question 3 – Exam Grading\n",
        "Write a Python code that gives a letter grade for a score.\n",
        "If the score is between 90 and 100 the grade is A, if between 80 and 89 the grade is B, if between 70 and 79 the grade is C, if between 60 and 69 the grade is D, and if below 60 the grade is F.\n",
        "Print the grade and a short message.\n",
        "Run the program with score = 73."
      ],
      "id": "uOUYYC870b8x"
    },
    {
      "cell_type": "code",
      "metadata": {
        "id": "HDtf_YLG0b8y",
        "colab": {
          "base_uri": "https://localhost:8080/"
        },
        "outputId": "dc7297e7-4249-40e1-e3f8-828536eda870"
      },
      "execution_count": 17,
      "outputs": [
        {
          "output_type": "stream",
          "name": "stdout",
          "text": [
            "Because your grade is 73, you will recieve a C\n"
          ]
        }
      ],
      "source": [
        "# write your answer here\n",
        "\n",
        "score = 73\n",
        "\n",
        "if(score < 60):\n",
        "  print('Because your grade is ' + str(score) + ', you will recieve an F.')\n",
        "elif(score < 70):\n",
        "  print('Because your grade is ' + str(score) + ', you will recieve a D.')\n",
        "elif(score < 80):\n",
        "  print('Because your grade is ' + str(score) + ', you will recieve a C.')\n",
        "elif(score < 90):\n",
        "  print('Because your grade is ' + str(score) + ', you will recieve a B.')\n",
        "else:\n",
        "  print('Because your grade is ' + str(score) + ', you will recieve an A.')\n"
      ],
      "id": "HDtf_YLG0b8y"
    },
    {
      "cell_type": "markdown",
      "metadata": {
        "id": "ZCIKM6Xs0b80"
      },
      "source": [
        "## Question 4 – Parking Fee\n",
        "Write a Python code that calculates parking fees.\n",
        "If the car is parked for 0 to 2 hours the parking is free, if the car is parked for 3 to 5 hours the fee is 3 dollars per hour, and if the car is parked for more than 5 hours the fee is 3 dollars per hour for the first three hours after free and then 5 dollars per hour for the rest.\n",
        "Print the number of hours and the total fee.\n",
        "Run the program with hours = 6."
      ],
      "id": "ZCIKM6Xs0b80"
    },
    {
      "cell_type": "code",
      "metadata": {
        "id": "g3a_sPo50b81",
        "colab": {
          "base_uri": "https://localhost:8080/"
        },
        "outputId": "6b91f20a-04d5-45ed-d7c3-d919382ee52e"
      },
      "execution_count": 25,
      "outputs": [
        {
          "output_type": "stream",
          "name": "stdout",
          "text": [
            "Because you parked for 6 hours, you will be charged $24.\n"
          ]
        }
      ],
      "source": [
        "# write your answer here\n",
        "\n",
        "hours = 6\n",
        "total_price = 0\n",
        "\n",
        "if(hours < 3):\n",
        "  print('Because you parked for ' + str(hours) + ' hours, you will not be charged.')\n",
        "elif(hours < 6):\n",
        "  total_price = hours * 3\n",
        "  print('Because you parked for ' + str(hours) + ' hours, you will be charged $' + str(total_price) + '.')\n",
        "else:\n",
        "  total_price = 9 + (hours - 3) * 5\n",
        "  print('Because you parked for ' + str(hours) + ' hours, you will be charged $' + str(total_price) + '.')\n"
      ],
      "id": "g3a_sPo50b81"
    },
    {
      "cell_type": "markdown",
      "metadata": {
        "id": "XBf0-SPz0b83"
      },
      "source": [
        "## Question 5 – Cafeteria Menu\n",
        "Write a Python code that creates a list with three food items.\n",
        "Check if an order is in the list.\n",
        "If the item is in the list print a confirmation, and if the item is not in the list print a polite message.\n",
        "Run the program with menu = ['pizza','salad','sandwich'] and order = 'salad'."
      ],
      "id": "XBf0-SPz0b83"
    },
    {
      "cell_type": "code",
      "metadata": {
        "id": "y52UEMoX0b85",
        "colab": {
          "base_uri": "https://localhost:8080/"
        },
        "outputId": "5b8f30e9-dff6-4bee-e8f1-37842a845bb7"
      },
      "execution_count": 29,
      "outputs": [
        {
          "output_type": "stream",
          "name": "stdout",
          "text": [
            "Order confirmed\n"
          ]
        }
      ],
      "source": [
        "# write your answer here\n",
        "\n",
        "menu = ['pizza', 'salad', 'sandwich']\n",
        "order = 'salad'\n",
        "\n",
        "if(order in menu):\n",
        "  print('Order confirmed')\n",
        "else:\n",
        "  print(\"Sorry, your request isn't on the menu\")"
      ],
      "id": "y52UEMoX0b85"
    },
    {
      "cell_type": "markdown",
      "metadata": {
        "id": "-60rL71F0b86"
      },
      "source": [
        "## Question 6 – Job Application Filter\n",
        "Write a Python code that checks if a person is eligible for a job.\n",
        "If the person is older than 22 and has more than 2 years of experience print Accepted.\n",
        "Otherwise print Not Accepted.\n",
        "Run the program with age = 23 and experience = 1."
      ],
      "id": "-60rL71F0b86"
    },
    {
      "cell_type": "code",
      "metadata": {
        "id": "-h964CqY0b88",
        "colab": {
          "base_uri": "https://localhost:8080/"
        },
        "outputId": "dba1a90e-cbe6-4c3c-9fee-2e72467e7e53"
      },
      "execution_count": 3,
      "outputs": [
        {
          "output_type": "stream",
          "name": "stdout",
          "text": [
            "Not Accepted\n"
          ]
        }
      ],
      "source": [
        "# write your answer here\n",
        "\n",
        "age = 23\n",
        "experience = 1\n",
        "\n",
        "if(age > 22 and experience > 2):\n",
        "  print(\"Accepted\")\n",
        "else:\n",
        "  print(\"Not Accepted\")\n"
      ],
      "id": "-h964CqY0b88"
    },
    {
      "cell_type": "markdown",
      "metadata": {
        "id": "MOMMxnuE0b8-"
      },
      "source": [
        "## Question 7 – Clothing Advice\n",
        "Write a Python code that suggests clothing based on the temperature.\n",
        "If the temperature is below 10 print Coat and gloves, if the temperature is between 10 and 19 print Jacket, and if the temperature is 20 or more print T-shirt.\n",
        "Run the program with temperature = 15."
      ],
      "id": "MOMMxnuE0b8-"
    },
    {
      "cell_type": "code",
      "metadata": {
        "id": "V6RtrCOa0b8_",
        "colab": {
          "base_uri": "https://localhost:8080/"
        },
        "outputId": "7d222e65-c9f1-43a7-b876-2587ce06d3df"
      },
      "execution_count": 8,
      "outputs": [
        {
          "output_type": "stream",
          "name": "stdout",
          "text": [
            "Wear a jacket\n"
          ]
        }
      ],
      "source": [
        "# write your answer here\n",
        "\n",
        "tempature = 15\n",
        "\n",
        "if(tempature < 10):\n",
        "  print('Wear a coat and gloves')\n",
        "elif(tempature < 20):\n",
        "  print('Wear a jacket')\n",
        "else:\n",
        "  print('Wear a T-shirt')\n"
      ],
      "id": "V6RtrCOa0b8_"
    },
    {
      "cell_type": "markdown",
      "metadata": {
        "id": "R-i9Jzpn0b9A"
      },
      "source": [
        "## Question 8 – Loan Eligibility\n",
        "Write a Python code that checks loan eligibility.\n",
        "If the salary is at least 3000 and the credit score is at least 650 print Loan Approved, otherwise print Loan Denied.\n",
        "Run the program with salary = 3500 and credit_score = 640."
      ],
      "id": "R-i9Jzpn0b9A"
    },
    {
      "cell_type": "code",
      "metadata": {
        "id": "2M0s0bC40b9B",
        "colab": {
          "base_uri": "https://localhost:8080/"
        },
        "outputId": "00cd49d0-edab-429d-b097-36b90d01c5b5"
      },
      "execution_count": 12,
      "outputs": [
        {
          "output_type": "stream",
          "name": "stdout",
          "text": [
            "Loan Denied\n"
          ]
        }
      ],
      "source": [
        "# write your answer here\n",
        "\n",
        "salary = 3500\n",
        "credit_score = 640\n",
        "\n",
        "if(salary >= 3000 and credit_score >= 650):\n",
        "  print('Loan Approved!')\n",
        "else:\n",
        "  print('Loan Denied')\n"
      ],
      "id": "2M0s0bC40b9B"
    },
    {
      "cell_type": "markdown",
      "metadata": {
        "id": "I0WmTyFv0b9D"
      },
      "source": [
        "## Question 9 – Password Strength\n",
        "Write a Python code that checks if a password is strong, medium, or weak based on its length.\n",
        "If the password has fewer than 6 characters it is Weak, if it has 6 to 10 characters it is Medium, and if it has more than 10 characters it is Strong.\n",
        "Print the strength.\n",
        "Run the program with password = 'hello123'."
      ],
      "id": "I0WmTyFv0b9D"
    },
    {
      "cell_type": "code",
      "metadata": {
        "id": "Jm8fu7ft0b9E",
        "colab": {
          "base_uri": "https://localhost:8080/"
        },
        "outputId": "a0f7f9aa-cc4c-4266-8ca8-dddeda0775e9"
      },
      "execution_count": 17,
      "outputs": [
        {
          "output_type": "stream",
          "name": "stdout",
          "text": [
            "Medium\n"
          ]
        }
      ],
      "source": [
        "# write your answer here\n",
        "\n",
        "password = 'hello123'\n",
        "\n",
        "if(len(password) < 6):\n",
        "  print('Weak password')\n",
        "elif(len(password) < 11):\n",
        "  print('Medium')\n",
        "else:\n",
        "  print('Strong password')\n"
      ],
      "id": "Jm8fu7ft0b9E"
    },
    {
      "cell_type": "markdown",
      "metadata": {
        "id": "kgKSm4WB0b9F"
      },
      "source": [
        "## Question 10 – Guest List Checker\n",
        "Write a Python code that creates a list with three invited guests.\n",
        "Define a variable for a guest name.\n",
        "Check if the guest name is in the list.\n",
        "If the guest is in the list print Welcome, and if the guest is not in the list print Not on the list.\n",
        "Run the program with guest = 'Sara'."
      ],
      "id": "kgKSm4WB0b9F"
    },
    {
      "cell_type": "code",
      "metadata": {
        "id": "4pyiTbMT0b9G",
        "colab": {
          "base_uri": "https://localhost:8080/"
        },
        "outputId": "94f83a94-52a8-49f0-d5aa-206e4c2d986d"
      },
      "execution_count": 20,
      "outputs": [
        {
          "output_type": "stream",
          "name": "stdout",
          "text": [
            "Welcome!!\n"
          ]
        }
      ],
      "source": [
        "# write your answer here\n",
        "\n",
        "guest = 'Sara'\n",
        "invited_guest = ['Sara', 'Bill', 'Kate']\n",
        "\n",
        "if(guest in invited_guest):\n",
        "  print('Welcome!!')\n",
        "else:\n",
        "  print('Not on the list')\n"
      ],
      "id": "4pyiTbMT0b9G"
    }
  ],
  "metadata": {
    "kernelspec": {
      "display_name": "Python 3",
      "language": "python",
      "name": "python3"
    },
    "language_info": {
      "name": "python",
      "version": "3.x"
    },
    "colab": {
      "provenance": [],
      "include_colab_link": true
    }
  },
  "nbformat": 4,
  "nbformat_minor": 5
}